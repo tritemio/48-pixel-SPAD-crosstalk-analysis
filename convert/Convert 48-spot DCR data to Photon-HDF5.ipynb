{
 "cells": [
  {
   "cell_type": "markdown",
   "metadata": {},
   "source": [
    "# Summary\n",
    "\n",
    "<p class='lead'>\n",
    "This notebook converts a 48-spot (i.e. 96 channels) DCR file from the raw **.DAT** format saved from the LabVIEW acquisition software\n",
    "into the **[Photon-HDF5](http://photon-hdf5.org)** format.\n",
    "</p>"
   ]
  },
  {
   "cell_type": "markdown",
   "metadata": {},
   "source": [
    "# User Input"
   ]
  },
  {
   "cell_type": "code",
   "execution_count": 1,
   "metadata": {
    "collapsed": true
   },
   "outputs": [],
   "source": [
    "fname = 'E:/Data/Antonio/data/manta/DCR/2017-10-16/00_DCR.dat'"
   ]
  },
  {
   "cell_type": "code",
   "execution_count": 2,
   "metadata": {
    "collapsed": true
   },
   "outputs": [],
   "source": [
    "description = 'DCR of N5 (donor) and N2 (acceptor) mantas.'\n",
    "\n",
    "author = 'Maya Segal'\n",
    "author_affiliation = 'UCLA'\n",
    "creator = 'Antonino Ingargiola'\n",
    "creator_affiliation = 'UCLA'"
   ]
  },
  {
   "cell_type": "markdown",
   "metadata": {},
   "source": [
    "# Imports"
   ]
  },
  {
   "cell_type": "code",
   "execution_count": 3,
   "metadata": {},
   "outputs": [
    {
     "data": {
      "text/plain": [
       "'0.8'"
      ]
     },
     "execution_count": 3,
     "metadata": {},
     "output_type": "execute_result"
    }
   ],
   "source": [
    "import time\n",
    "import numpy as np\n",
    "import tables\n",
    "from tqdm import tqdm_notebook, tnrange  # progress bar\n",
    "\n",
    "import phconvert as phc\n",
    "phc.__version__"
   ]
  },
  {
   "cell_type": "code",
   "execution_count": 4,
   "metadata": {},
   "outputs": [
    {
     "data": {
      "text/plain": [
       "'0.2'"
      ]
     },
     "execution_count": 4,
     "metadata": {},
     "output_type": "execute_result"
    }
   ],
   "source": [
    "import niconverter as nic\n",
    "nic.__version__"
   ]
  },
  {
   "cell_type": "markdown",
   "metadata": {},
   "source": [
    "# Preprocess spot data"
   ]
  },
  {
   "cell_type": "code",
   "execution_count": 5,
   "metadata": {
    "collapsed": true
   },
   "outputs": [],
   "source": [
    "t_start = time.time()"
   ]
  },
  {
   "cell_type": "code",
   "execution_count": 6,
   "metadata": {},
   "outputs": [
    {
     "name": "stderr",
     "output_type": "stream",
     "text": [
      "Widget Javascript not detected.  It may not be installed or enabled properly.\n"
     ]
    },
    {
     "data": {
      "application/vnd.jupyter.widget-view+json": {
       "model_id": "43ca585132a64516a13ed12bb2eb64b1"
      }
     },
     "metadata": {},
     "output_type": "display_data"
    },
    {
     "name": "stdout",
     "output_type": "stream",
     "text": [
      "\n"
     ]
    },
    {
     "data": {
      "text/plain": [
       "('E:/Data/Antonio/data/manta/DCR/2017-10-16/00_DCR.dat',\n",
       " {'acquisition_duration': 11067.738268187499,\n",
       "  'clock_frequency': 80000000.0,\n",
       "  'format': 'x',\n",
       "  'nchannels': 96,\n",
       "  'num_timestamps': 567861615,\n",
       "  'offset': 65,\n",
       "  'words_per_photon': 1})"
      ]
     },
     "execution_count": 6,
     "metadata": {},
     "output_type": "execute_result"
    }
   ],
   "source": [
    "h5file, meta = nic.ni96ch_process_spots(fname, close=True)\n",
    "ts_unit = 1 / meta['clock_frequency']\n",
    "fname, meta"
   ]
  },
  {
   "cell_type": "code",
   "execution_count": 7,
   "metadata": {},
   "outputs": [
    {
     "data": {
      "text/plain": [
       "217.97720050811768"
      ]
     },
     "execution_count": 7,
     "metadata": {},
     "output_type": "execute_result"
    }
   ],
   "source": [
    "time.time() - t_start"
   ]
  },
  {
   "cell_type": "code",
   "execution_count": 8,
   "metadata": {},
   "outputs": [
    {
     "data": {
      "text/plain": [
       "('E:/Data/Antonio/data/manta/DCR/2017-10-16/00_DCR.dat',\n",
       " {'acquisition_duration': 11067.738268187499,\n",
       "  'clock_frequency': 80000000.0,\n",
       "  'format': 'x',\n",
       "  'nchannels': 96,\n",
       "  'num_timestamps': 567861615,\n",
       "  'offset': 65,\n",
       "  'words_per_photon': 1})"
      ]
     },
     "execution_count": 8,
     "metadata": {},
     "output_type": "execute_result"
    }
   ],
   "source": [
    "h5file = tables.open_file(fname[:-3] + 'hdf5', mode='a')\n",
    "dt, endianess, meta = nic.detectformat(fname)\n",
    "ts_unit = 1 / meta['clock_frequency']\n",
    "t2, aem2 = nic.get_photon_data_arr(h5file, spots=np.arange(48))\n",
    "meta['acquisition_duration'] = nic.duration(t2, ts_unit)\n",
    "fname, meta"
   ]
  },
  {
   "cell_type": "code",
   "execution_count": 9,
   "metadata": {},
   "outputs": [
    {
     "data": {
      "text/plain": [
       "218.69627213478088"
      ]
     },
     "execution_count": 9,
     "metadata": {},
     "output_type": "execute_result"
    }
   ],
   "source": [
    "time.time() - t_start"
   ]
  },
  {
   "cell_type": "code",
   "execution_count": 10,
   "metadata": {},
   "outputs": [
    {
     "name": "stdout",
     "output_type": "stream",
     "text": [
      "Measurement duration: 11067.7 s\n",
      "Transfer rate: 0.20 MB/s\n"
     ]
    }
   ],
   "source": [
    "print('Measurement duration: %.1f s' %  meta['acquisition_duration'])\n",
    "print('Transfer rate: %.2f MB/s' % (meta['num_timestamps'] / meta['acquisition_duration'] * 4 / (1024**2)))"
   ]
  },
  {
   "cell_type": "code",
   "execution_count": 11,
   "metadata": {},
   "outputs": [
    {
     "name": "stderr",
     "output_type": "stream",
     "text": [
      "Widget Javascript not detected.  It may not be installed or enabled properly.\n"
     ]
    },
    {
     "data": {
      "application/vnd.jupyter.widget-view+json": {
       "model_id": "46a77cb2c59f40e0aa87109abe9c26be"
      }
     },
     "metadata": {},
     "output_type": "display_data"
    },
    {
     "name": "stdout",
     "output_type": "stream",
     "text": [
      "\n"
     ]
    }
   ],
   "source": [
    "neg_jumps = []\n",
    "for tx in tqdm_notebook(t2):\n",
    "    d = np.diff(tx[:])\n",
    "    assert (d >= 0).all()\n",
    "    neg_jumps.append(d[d<0])\n",
    "    \n",
    "missed_ov_jumps = [len(j) for j in neg_jumps]\n",
    "for ch, jumps in enumerate(missed_ov_jumps):\n",
    "    if jumps > 0:\n",
    "        print('CH%d: %s' % (ch, jumps))"
   ]
  },
  {
   "cell_type": "code",
   "execution_count": 12,
   "metadata": {},
   "outputs": [
    {
     "data": {
      "text/plain": [
       "235.6769700050354"
      ]
     },
     "execution_count": 12,
     "metadata": {},
     "output_type": "execute_result"
    }
   ],
   "source": [
    "time.time() - t_start"
   ]
  },
  {
   "cell_type": "markdown",
   "metadata": {},
   "source": [
    "# Create Photon-HDF5"
   ]
  },
  {
   "cell_type": "code",
   "execution_count": 13,
   "metadata": {},
   "outputs": [
    {
     "data": {
      "text/plain": [
       "{'acquisition_duration': 11067.738268187499,\n",
       " 'description': 'DCR of N5 (donor) and N2 (acceptor) mantas.',\n",
       " 'identity': {'author': 'Maya Segal',\n",
       "  'author_affiliation': 'UCLA',\n",
       "  'creator': 'Antonino Ingargiola',\n",
       "  'creator_affiliation': 'UCLA'}}"
      ]
     },
     "execution_count": 13,
     "metadata": {},
     "output_type": "execute_result"
    }
   ],
   "source": [
    "metadata = dict(\n",
    "    description = description,\n",
    "    acquisition_duration = meta['acquisition_duration'],\n",
    "\n",
    "    identity = dict(\n",
    "        author=author,\n",
    "        author_affiliation=author_affiliation,\n",
    "        creator=creator,\n",
    "        creator_affiliation=creator_affiliation),\n",
    "    )\n",
    "metadata"
   ]
  },
  {
   "cell_type": "code",
   "execution_count": 14,
   "metadata": {},
   "outputs": [
    {
     "data": {
      "text/plain": [
       "'E:/Data/Antonio/data/manta/DCR/2017-10-16/00_DCR.dat'"
      ]
     },
     "execution_count": 14,
     "metadata": {},
     "output_type": "execute_result"
    }
   ],
   "source": [
    "fname"
   ]
  },
  {
   "cell_type": "code",
   "execution_count": 15,
   "metadata": {},
   "outputs": [
    {
     "data": {
      "text/plain": [
       "'E:/Data/Antonio/data/manta/DCR/2017-10-16/00_DCR.hdf5'"
      ]
     },
     "execution_count": 15,
     "metadata": {},
     "output_type": "execute_result"
    }
   ],
   "source": [
    "h5file.filename"
   ]
  },
  {
   "cell_type": "code",
   "execution_count": 16,
   "metadata": {
    "collapsed": true
   },
   "outputs": [],
   "source": [
    "data = nic.create_ph5data_smFRET_48spots(fname, h5file, ts_unit, metadata)"
   ]
  },
  {
   "cell_type": "code",
   "execution_count": 17,
   "metadata": {},
   "outputs": [
    {
     "data": {
      "text/plain": [
       "['_filename',\n",
       " 'provenance',\n",
       " 'description',\n",
       " 'acquisition_duration',\n",
       " 'identity',\n",
       " 'setup']"
      ]
     },
     "execution_count": 17,
     "metadata": {},
     "output_type": "execute_result"
    }
   ],
   "source": [
    "[f for f in data.keys() if not f.startswith('photon')]"
   ]
  },
  {
   "cell_type": "code",
   "execution_count": 18,
   "metadata": {},
   "outputs": [
    {
     "name": "stdout",
     "output_type": "stream",
     "text": [
      "Saving: E:/Data/Antonio/data/manta/DCR/2017-10-16/00_DCR.hdf5\n",
      "Photon-HDF5 WARNING: Missing field \"measurement_specs\" in \"/photon_data0\". \n",
      "Photon-HDF5 WARNING: Missing field \"measurement_specs\" in \"/photon_data1\". \n",
      "Photon-HDF5 WARNING: Missing field \"measurement_specs\" in \"/photon_data2\". \n",
      "Photon-HDF5 WARNING: Missing field \"measurement_specs\" in \"/photon_data3\". \n",
      "Photon-HDF5 WARNING: Missing field \"measurement_specs\" in \"/photon_data4\". \n",
      "Photon-HDF5 WARNING: Missing field \"measurement_specs\" in \"/photon_data5\". \n",
      "Photon-HDF5 WARNING: Missing field \"measurement_specs\" in \"/photon_data6\". \n",
      "Photon-HDF5 WARNING: Missing field \"measurement_specs\" in \"/photon_data7\". \n",
      "Photon-HDF5 WARNING: Missing field \"measurement_specs\" in \"/photon_data8\". \n",
      "Photon-HDF5 WARNING: Missing field \"measurement_specs\" in \"/photon_data9\". \n",
      "Photon-HDF5 WARNING: Missing field \"measurement_specs\" in \"/photon_data10\". \n",
      "Photon-HDF5 WARNING: Missing field \"measurement_specs\" in \"/photon_data11\". \n",
      "Photon-HDF5 WARNING: Missing field \"measurement_specs\" in \"/photon_data12\". \n",
      "Photon-HDF5 WARNING: Missing field \"measurement_specs\" in \"/photon_data13\". \n",
      "Photon-HDF5 WARNING: Missing field \"measurement_specs\" in \"/photon_data14\". \n",
      "Photon-HDF5 WARNING: Missing field \"measurement_specs\" in \"/photon_data15\". \n",
      "Photon-HDF5 WARNING: Missing field \"measurement_specs\" in \"/photon_data16\". \n",
      "Photon-HDF5 WARNING: Missing field \"measurement_specs\" in \"/photon_data17\". \n",
      "Photon-HDF5 WARNING: Missing field \"measurement_specs\" in \"/photon_data18\". \n",
      "Photon-HDF5 WARNING: Missing field \"measurement_specs\" in \"/photon_data19\". \n",
      "Photon-HDF5 WARNING: Missing field \"measurement_specs\" in \"/photon_data20\". \n",
      "Photon-HDF5 WARNING: Missing field \"measurement_specs\" in \"/photon_data21\". \n",
      "Photon-HDF5 WARNING: Missing field \"measurement_specs\" in \"/photon_data22\". \n",
      "Photon-HDF5 WARNING: Missing field \"measurement_specs\" in \"/photon_data23\". \n",
      "Photon-HDF5 WARNING: Missing field \"measurement_specs\" in \"/photon_data24\". \n",
      "Photon-HDF5 WARNING: Missing field \"measurement_specs\" in \"/photon_data25\". \n",
      "Photon-HDF5 WARNING: Missing field \"measurement_specs\" in \"/photon_data26\". \n",
      "Photon-HDF5 WARNING: Missing field \"measurement_specs\" in \"/photon_data27\". \n",
      "Photon-HDF5 WARNING: Missing field \"measurement_specs\" in \"/photon_data28\". \n",
      "Photon-HDF5 WARNING: Missing field \"measurement_specs\" in \"/photon_data29\". \n",
      "Photon-HDF5 WARNING: Missing field \"measurement_specs\" in \"/photon_data30\". \n",
      "Photon-HDF5 WARNING: Missing field \"measurement_specs\" in \"/photon_data31\". \n",
      "Photon-HDF5 WARNING: Missing field \"measurement_specs\" in \"/photon_data32\". \n",
      "Photon-HDF5 WARNING: Missing field \"measurement_specs\" in \"/photon_data33\". \n",
      "Photon-HDF5 WARNING: Missing field \"measurement_specs\" in \"/photon_data34\". \n",
      "Photon-HDF5 WARNING: Missing field \"measurement_specs\" in \"/photon_data35\". \n",
      "Photon-HDF5 WARNING: Missing field \"measurement_specs\" in \"/photon_data36\". \n",
      "Photon-HDF5 WARNING: Missing field \"measurement_specs\" in \"/photon_data37\". \n",
      "Photon-HDF5 WARNING: Missing field \"measurement_specs\" in \"/photon_data38\". \n",
      "Photon-HDF5 WARNING: Missing field \"measurement_specs\" in \"/photon_data39\". \n",
      "Photon-HDF5 WARNING: Missing field \"measurement_specs\" in \"/photon_data40\". \n",
      "Photon-HDF5 WARNING: Missing field \"measurement_specs\" in \"/photon_data41\". \n",
      "Photon-HDF5 WARNING: Missing field \"measurement_specs\" in \"/photon_data42\". \n",
      "Photon-HDF5 WARNING: Missing field \"measurement_specs\" in \"/photon_data43\". \n",
      "Photon-HDF5 WARNING: Missing field \"measurement_specs\" in \"/photon_data44\". \n",
      "Photon-HDF5 WARNING: Missing field \"measurement_specs\" in \"/photon_data45\". \n",
      "Photon-HDF5 WARNING: Missing field \"measurement_specs\" in \"/photon_data46\". \n",
      "Photon-HDF5 WARNING: Missing field \"measurement_specs\" in \"/photon_data47\". \n"
     ]
    }
   ],
   "source": [
    "phc.hdf5.save_photon_hdf5(data, h5file=h5file, overwrite=False, close=True)"
   ]
  },
  {
   "cell_type": "code",
   "execution_count": 19,
   "metadata": {},
   "outputs": [
    {
     "data": {
      "text/plain": [
       "257.8871908187866"
      ]
     },
     "execution_count": 19,
     "metadata": {},
     "output_type": "execute_result"
    }
   ],
   "source": [
    "time.time() - t_start"
   ]
  }
 ],
 "metadata": {
  "anaconda-cloud": {},
  "kernelspec": {
   "display_name": "Python [conda env:py36]",
   "language": "python",
   "name": "conda-env-py36-py"
  },
  "language_info": {
   "codemirror_mode": {
    "name": "ipython",
    "version": 3
   },
   "file_extension": ".py",
   "mimetype": "text/x-python",
   "name": "python",
   "nbconvert_exporter": "python",
   "pygments_lexer": "ipython3",
   "version": "3.6.1"
  },
  "nav_menu": {},
  "toc": {
   "nav_menu": {},
   "number_sections": false,
   "sideBar": true,
   "skip_h1_title": false,
   "toc_cell": false,
   "toc_position": {},
   "toc_section_display": "block",
   "toc_window_display": true
  }
 },
 "nbformat": 4,
 "nbformat_minor": 1
}
