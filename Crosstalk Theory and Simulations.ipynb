{
 "cells": [
  {
   "cell_type": "markdown",
   "metadata": {},
   "source": [
    "# Optical Crosstalk in SPAD arrays\n"
   ]
  },
  {
   "cell_type": "markdown",
   "metadata": {},
   "source": [
    "# Theory\n",
    "\n",
    "Optical crosstalk is a interaction between pixels on the same \n",
    "array. When an avalanche is triggered on one pixel it emits \n",
    "secondary photons that can trigger another pixel on the same chip. \n",
    "This secondary photon emission is proportional to the avalanche current \n",
    "whose duration is typically < 20ns in SPADs using AQCs. Hence, when a\n",
    "crosstalk event occurs, the second pixels is triggered with a delay\n",
    "< 20ns. We can estimate the crosstalk by \"coincidence counting\",\n",
    "that is counting the number of photons $C$ arriving in two pixels \n",
    "within a short time window $\\Delta t$ (e.g. 25-50ns). \n",
    "The number of coincident events due to uncorrelated dark counts \n",
    "can be computed from Poisson statistics. Then, the number\n",
    "of crosstalk events is simply the total coincidence counts minus\n",
    "the coincidence due to uncorrelated counts. The crosstalk probability\n",
    "is the number of coincidences divided by the total counts.\n",
    "\n",
    "**Reference**:\n",
    "- [Restelli JMO 2006](http://dx.doi.org/10.1080/09500340600790121).\n",
    "\n",
    "## Poisson statistics\n",
    "\n",
    "Given the random variable $X \\sim {\\rm Poiss}\\{\\Lambda\\}$, \n",
    "where $\\Lambda = \\lambda\\Delta t$. We ask, what is the probability\n",
    "of having at least one count in a time window $\\delta t$?\n",
    "\n",
    "$$P\\{X \\ge 1\\} = 1 - P\\{X = 0\\} = 1 - e^\\Lambda \n",
    "\\xrightarrow[\\scriptstyle\\Lambda\\to0]{} \\Lambda$$\n",
    "\n",
    "Hence, for two random variables $X_A \\sim {\\rm Poiss}\\{\\Lambda_A\\}$\n",
    "and $X_B \\sim {\\rm Poiss}\\{\\Lambda_B\\}$, the propbability of having\n",
    "at least one count in each variable in a time $\\Delta t$ is:\n",
    "\n",
    "$$P\\{X_A \\ge 1\\}P\\{X_B \\ge 1\\} = (1 - e^{-\\Lambda_A})(1 - e^{-\\Lambda_B})\n",
    "\\approx (\\lambda_A\\Delta t)(\\lambda_B\\Delta t) \n",
    "\\quad {\\rm for}\\quad\\Delta t \\ll \\lambda^{-1}$$\n",
    "\n",
    "In a measurement of duration $T$, number of \"coincidences\" $C_u$ is the number\n",
    "of times both variables have at least one count in a window $\\Delta t$\n",
    "\n",
    "$$C_u = P\\{X_A \\ge 1\\}P\\{X_B \\ge 1\\} \\frac{T}{\\Delta t}\n",
    "\\approx \\lambda_A\\,\\lambda_B\\, T\\,\\,\\Delta t \n",
    "\\quad {\\rm for}\\quad\\Delta t \\ll \\lambda^{-1}$$\n",
    "\n",
    "## Crosstalk probability\n",
    "\n",
    "Given a measurement of duration $T$, with total counts $N_A$ and $N_B$ in\n",
    "pixels $A$ and $B$. If $C$ are the total number of coincidence in windows of \n",
    "duration $\\Delta t$, then the coincidence $C_c$ due to crosstalk are:\n",
    "\n",
    "\\begin{equation}\n",
    "C_c = C - C_u \\qquad\\qquad (1)\n",
    "\\end{equation}\n",
    "\n",
    "where $C_u$ are the number of coincidences due to Poisson statistics, \n",
    "i.e. the coincidences we would have if the two pixels were uncorrelated.\n",
    " \n",
    "\\begin{equation}\n",
    "C_u = \\left[1 - \\exp\\left(-\\frac{N_A - C_c}{T}\\right)\\right]\n",
    "      \\left[1 - \\exp\\left(-\\frac{N_B - C_c}{T}\\right)\\right]\n",
    "      \\frac{T}{\\Delta t}\n",
    "\\end{equation}\n",
    "\n",
    "The expression of $C_u$ can be replaced eq. (1) and then solved for $C_c$ \n",
    "(a numerical iterative solution is straightforward).\n",
    "For simplicity, we could assume $C_c \\ll N_A,N_B$ obtaining:\n",
    "\n",
    "\\begin{equation}\n",
    "C_u = \\left[1 - \\exp\\left(-\\frac{N_A}{T}\\right)\\right]\n",
    "      \\left[1 - \\exp\\left(-\\frac{N_B}{T}\\right)\\right]\n",
    "      \\frac{T}{\\Delta t}\n",
    "\\end{equation}\n",
    "\n",
    "In either cases, the probability of crosstalk is:\n",
    "\n",
    "\\begin{equation}\n",
    "P_c = \\frac{C_c}{N_A + N_B - C_c}\n",
    "\\end{equation}\n",
    "\n",
    "The counts $C_c$ are independetent events and thus are Poisson distributed.\n",
    "The standard deviation of $C_c$ is then\n",
    "${\\rm Std}\\{C_c\\} = \\sqrt{C_c}$, and the standard deviation of $P_c$ is:\n",
    "\n",
    "\\begin{equation}\n",
    "{\\rm Std}\\{P_c\\} = \\frac{\\sqrt{C_c}}{N_A + N_B - C_c}\n",
    "\\end{equation}\n"
   ]
  },
  {
   "cell_type": "markdown",
   "metadata": {},
   "source": [
    "## Define functions"
   ]
  },
  {
   "cell_type": "code",
   "execution_count": 1,
   "metadata": {
    "collapsed": true
   },
   "outputs": [],
   "source": [
    "def coincidence_py(timestamps1, timestamps2):\n",
    "    \"\"\"Pure python coincidence counting.\"\"\"\n",
    "    coinc = 0\n",
    "    i1, i2 = 0, 0\n",
    "    while (i1 < timestamps1.size) and (i2 < timestamps2.size):\n",
    "        if timestamps1[i1] == timestamps2[i2]:\n",
    "            coinc += 1\n",
    "            i1 += 1\n",
    "            i2 += 1\n",
    "        elif timestamps1[i1] > timestamps2[i2]:\n",
    "            i2 += 1\n",
    "        elif timestamps1[i1] < timestamps2[i2]:\n",
    "            i1 += 1\n",
    "    return coinc"
   ]
  },
  {
   "cell_type": "code",
   "execution_count": 2,
   "metadata": {
    "collapsed": true
   },
   "outputs": [],
   "source": [
    "%load_ext Cython"
   ]
  },
  {
   "cell_type": "code",
   "execution_count": 3,
   "metadata": {
    "collapsed": true
   },
   "outputs": [],
   "source": [
    "%%cython\n",
    "cimport numpy as np\n",
    "\n",
    "def coincidence(np.int64_t[:] timestamps1, np.int64_t[:] timestamps2):\n",
    "    \"\"\"Cython coincidence counting.\"\"\"\n",
    "    cdef np.int64_t coinc, i1, i2, size1, size2\n",
    "    size1 = timestamps1.size\n",
    "    size2 = timestamps2.size\n",
    "    coinc = 0\n",
    "    i1, i2 = 0, 0\n",
    "    while i1 < size1 and i2 < size2:\n",
    "        if timestamps1[i1] == timestamps2[i2]:\n",
    "            coinc += 1\n",
    "            i1 += 1\n",
    "            i2 += 1\n",
    "        elif timestamps1[i1] > timestamps2[i2]:\n",
    "            i2 += 1\n",
    "        elif timestamps1[i1] < timestamps2[i2]:\n",
    "            i1 += 1\n",
    "    return coinc"
   ]
  },
  {
   "cell_type": "code",
   "execution_count": 4,
   "metadata": {
    "collapsed": true
   },
   "outputs": [],
   "source": [
    "def crosstalk_probability(t1, t2, tol=1e-6, max_iter=100):\n",
    "    \"\"\"Estimate crosstalk probability between two pixels in a SPAD array.\n",
    "    \n",
    "    Given two input arrays of timestamps `t1` and `t2`, estimate \n",
    "    the crosstalk probability using Poisson statistics without \n",
    "    approximations.\n",
    "    \n",
    "    Arguments:\n",
    "        t1, t2 (array of ints): arrays of timestamps from DCR measurements\n",
    "            for the two pixels to be measured. Timestamps need to be \n",
    "            integers and coincidences are detected when values in the two \n",
    "            arrays are equal. These arrays need to be rescaled, if \n",
    "            coincidence need to be computed on a delta t larger than \\\n",
    "            a single timestamp unit.\n",
    "        tol (float): tollerance for iterative equasion solution\n",
    "        max_iter (int): max iterations used to solve the equation\n",
    "        \n",
    "    Returns:\n",
    "        A 3-element tuple:\n",
    "        - crosstalk probability\n",
    "        - crosstalk probability standard deviation\n",
    "        - number of iterations used for the estimation.\n",
    "    \"\"\"\n",
    "    T = (max((t1.max(), t2.max())) - min((t1.min(), t2.min())))\n",
    "    C = coincidence(t1, t2)\n",
    "    \n",
    "    # Find C_c by solving eq. (1) iteratively\n",
    "    C_c, C_u_prev = 0, 0\n",
    "    for i in range(max_iter):\n",
    "        C_u = ((1 - np.exp(-(t1.size - C_c)/T)) * \n",
    "               (1 - np.exp(-(t2.size - C_c)/T)) * T)\n",
    "        C_c = C - C_u\n",
    "        if np.abs(C_u - C_u_prev) < tol:\n",
    "            break\n",
    "        C_u_prev = C_u\n",
    "    \n",
    "    P_c = C_c / (t1.size + t2.size - C_c)\n",
    "    sigma = np.sqrt(C_c) / (t1.size + t2.size - C_c)\n",
    "    return P_c, sigma, i"
   ]
  },
  {
   "cell_type": "markdown",
   "metadata": {},
   "source": [
    "# Simulation\n",
    "\n",
    "## Poisson processes\n",
    "\n",
    "Here we simulate two poisson processes to check the the coincidences \n",
    "are, as predicted, equal to $C_u$."
   ]
  },
  {
   "cell_type": "code",
   "execution_count": 5,
   "metadata": {
    "collapsed": true
   },
   "outputs": [],
   "source": [
    "import numpy as np\n",
    "%matplotlib inline\n",
    "import matplotlib.pyplot as plt"
   ]
  },
  {
   "cell_type": "markdown",
   "metadata": {},
   "source": [
    "Simulation parameters:"
   ]
  },
  {
   "cell_type": "code",
   "execution_count": 6,
   "metadata": {
    "collapsed": true
   },
   "outputs": [],
   "source": [
    "λ_A = 1000       # cps\n",
    "λ_B = 2000       # cps\n",
    "T = 600          # s\n",
    "delta_t = 50e-9  # s\n",
    "P_c = 0.05"
   ]
  },
  {
   "cell_type": "markdown",
   "metadata": {},
   "source": [
    "From theory, the number of coincidences are:"
   ]
  },
  {
   "cell_type": "code",
   "execution_count": 7,
   "metadata": {},
   "outputs": [
    {
     "data": {
      "text/plain": [
       "60.0"
      ]
     },
     "execution_count": 7,
     "metadata": {},
     "output_type": "execute_result"
    }
   ],
   "source": [
    "C_u = λ_A * λ_B * T * delta_t\n",
    "C_u"
   ]
  },
  {
   "cell_type": "code",
   "execution_count": 8,
   "metadata": {},
   "outputs": [
    {
     "data": {
      "text/plain": [
       "7.745966692414834"
      ]
     },
     "execution_count": 8,
     "metadata": {},
     "output_type": "execute_result"
    }
   ],
   "source": [
    "np.sqrt(C_u)"
   ]
  },
  {
   "cell_type": "markdown",
   "metadata": {},
   "source": [
    "Let's simulate timestamps for two uncorrelated Poisson processes:"
   ]
  },
  {
   "cell_type": "code",
   "execution_count": 9,
   "metadata": {},
   "outputs": [
    {
     "data": {
      "text/plain": [
       "(0.0010001265879312606, 1000.1265879312606)"
      ]
     },
     "execution_count": 9,
     "metadata": {},
     "output_type": "execute_result"
    }
   ],
   "source": [
    "dt = np.random.exponential(scale=1/λ_A, size=10**6)\n",
    "dt.mean(), dt.sum()"
   ]
  },
  {
   "cell_type": "code",
   "execution_count": 10,
   "metadata": {
    "collapsed": true
   },
   "outputs": [],
   "source": [
    "np.random.seed(1)\n",
    "\n",
    "t_A = np.cumsum(np.random.exponential(scale=1/λ_A, size=λ_A * T * 2))\n",
    "assert t_A.max() > T\n",
    "t_A = t_A[t_A < 600]\n",
    "t_A = (t_A / delta_t).astype('int64')\n",
    "\n",
    "t_B = np.cumsum(np.random.exponential(scale=1/λ_B, size=λ_B * T * 2))\n",
    "assert t_B.max() > T\n",
    "t_B = t_B[t_B < 600]\n",
    "t_B = (t_B / delta_t).astype('int64')"
   ]
  },
  {
   "cell_type": "markdown",
   "metadata": {},
   "source": [
    "The empirical coincidences are:"
   ]
  },
  {
   "cell_type": "code",
   "execution_count": 11,
   "metadata": {},
   "outputs": [
    {
     "data": {
      "text/plain": [
       "62"
      ]
     },
     "execution_count": 11,
     "metadata": {},
     "output_type": "execute_result"
    }
   ],
   "source": [
    "C_u_sim = coincidence(t_A, t_B)\n",
    "C_u_sim"
   ]
  },
  {
   "cell_type": "code",
   "execution_count": 12,
   "metadata": {
    "collapsed": true
   },
   "outputs": [],
   "source": [
    "assert C_u - 3*np.sqrt(C_u) < C_u_sim < C_u + 3*np.sqrt(C_u)"
   ]
  },
  {
   "cell_type": "markdown",
   "metadata": {},
   "source": [
    "Let's repeat the simulation $N$ times to be sure that the \n",
    "estimated coincidence falls within the espected error range\n",
    "all the times:"
   ]
  },
  {
   "cell_type": "code",
   "execution_count": 13,
   "metadata": {},
   "outputs": [
    {
     "name": "stdout",
     "output_type": "stream",
     "text": [
      ">>> In 500 simulations, the number of coincincence was outside the error range 0 times\n"
     ]
    }
   ],
   "source": [
    "N = 500\n",
    "fail = 0\n",
    "for _ in range(N):\n",
    "    t_A = np.cumsum(np.random.exponential(scale=1/λ_A, size=λ_A * T * 2))\n",
    "    assert t_A.max() > T\n",
    "    t_A = t_A[t_A < T]\n",
    "    t_A = (t_A / delta_t).astype('int64')\n",
    "\n",
    "    t_B = np.cumsum(np.random.exponential(scale=1/λ_B, size=λ_B * T * 2))\n",
    "    assert t_B.max() > T\n",
    "    t_B = t_B[t_B < T]\n",
    "    t_B = (t_B / delta_t).astype('int64')\n",
    "    \n",
    "    C_u_sim = coincidence(t_A, t_B)\n",
    "    if C_u < C_u_sim - 3*np.sqrt(C_u_sim) or C_u > C_u_sim + 3*np.sqrt(C_u_sim):\n",
    "        fail += 1\n",
    "\n",
    "print('>>> In %d simulations, the number of coincincence was outside the error range %d times' \n",
    "      % (N, fail/N))"
   ]
  },
  {
   "cell_type": "markdown",
   "metadata": {},
   "source": [
    "For further information of confidence intervals for Poisson distribution\n",
    "estimators see:\n",
    "\n",
    "- Patil & Kulkarni. *Statistical Journal* 10(2) pp211–227(2012). \n",
    "  COMPARISON OF CONFIDENCE INTERVALS FOR THE POISSON MEAN: SOME NEW ASPECTS. \n",
    "  [[PDF]](https://www.ine.pt/revstat/pdf/rs120203.pdf) "
   ]
  },
  {
   "cell_type": "markdown",
   "metadata": {},
   "source": [
    "## Optical crosstalk\n",
    "\n",
    "Here we simulate two Poisson processes plus crosstalk, to check \n",
    "that the estimated crosstalk is consistent with the ground truth."
   ]
  },
  {
   "cell_type": "code",
   "execution_count": 14,
   "metadata": {
    "collapsed": true
   },
   "outputs": [],
   "source": [
    "λ_A = 1000       # cps\n",
    "λ_B = 1550       # cps\n",
    "T = 1200         # s\n",
    "delta_t = 50e-9  # s\n",
    "P_c = 0.1"
   ]
  },
  {
   "cell_type": "code",
   "execution_count": 15,
   "metadata": {
    "collapsed": true
   },
   "outputs": [],
   "source": [
    "np.random.seed(1)"
   ]
  },
  {
   "cell_type": "code",
   "execution_count": 16,
   "metadata": {
    "collapsed": true
   },
   "outputs": [],
   "source": [
    "t_A = np.cumsum(np.random.exponential(scale=1/λ_A, size=λ_A * T * 2))\n",
    "assert t_A.max() > T\n",
    "t_A = t_A[t_A < 600]\n",
    "t_A = (t_A / delta_t).astype('int64')\n",
    "t_ct_AB = t_A[np.random.rand(t_A.size) <= P_c]\n",
    "\n",
    "t_B = np.cumsum(np.random.exponential(scale=1/λ_B, size=λ_B * T * 2))\n",
    "assert t_B.max() > T\n",
    "t_B = t_B[t_B < 600]\n",
    "t_B = (t_B / delta_t).astype('int64')\n",
    "t_ct_BA = t_B[np.random.rand(t_B.size) <= P_c]\n",
    "\n",
    "t_B = np.hstack([t_B, t_ct_AB])\n",
    "t_B.sort()\n",
    "t_A = np.hstack([t_A, t_ct_BA])\n",
    "t_A.sort()"
   ]
  },
  {
   "cell_type": "code",
   "execution_count": 17,
   "metadata": {},
   "outputs": [
    {
     "data": {
      "text/plain": [
       "(9.9967084810755544, 0.076659160092492767, 4)"
      ]
     },
     "execution_count": 17,
     "metadata": {},
     "output_type": "execute_result"
    }
   ],
   "source": [
    "P_c_est, P_c_err, i = crosstalk_probability(t_A, t_B, delta_t)\n",
    "P_c_est*100, P_c_err*300, i"
   ]
  },
  {
   "cell_type": "markdown",
   "metadata": {},
   "source": [
    "Let's repeat the simulation $N$ times to obtain a distribution\n",
    "of estimated crosstalk values:"
   ]
  },
  {
   "cell_type": "code",
   "execution_count": 18,
   "metadata": {
    "collapsed": true
   },
   "outputs": [],
   "source": [
    "λ_A = 1000       # cps\n",
    "λ_B = 300       # cps\n",
    "T = 1200         # s\n",
    "delta_t = 50e-9  # s\n",
    "P_c = 0.05"
   ]
  },
  {
   "cell_type": "code",
   "execution_count": 19,
   "metadata": {},
   "outputs": [
    {
     "data": {
      "text/plain": [
       "3.0"
      ]
     },
     "execution_count": 19,
     "metadata": {},
     "output_type": "execute_result"
    }
   ],
   "source": [
    "N = 100\n",
    "P = []\n",
    "I = 0\n",
    "for _ in range(N):\n",
    "    t_A = np.cumsum(np.random.exponential(scale=1/λ_A, size=λ_A * T * 2))\n",
    "    assert t_A.max() > T\n",
    "    t_A = t_A[t_A < T]\n",
    "    t_A = (t_A / delta_t).astype('int64')\n",
    "    t_ct_AB = t_A[np.random.rand(t_A.size) <= P_c]\n",
    "\n",
    "    t_B = np.cumsum(np.random.exponential(scale=1/λ_B, size=λ_B * T * 2))\n",
    "    assert t_B.max() > T\n",
    "    t_B = t_B[t_B < T]\n",
    "    t_B = (t_B / delta_t).astype('int64')\n",
    "    t_ct_BA = t_B[np.random.rand(t_B.size) <= P_c]\n",
    "\n",
    "    t_B = np.hstack([t_B, t_ct_AB])\n",
    "    t_B.sort()\n",
    "    t_A = np.hstack([t_A, t_ct_BA])\n",
    "    t_A.sort()\n",
    "    \n",
    "    P_c_est, P_c_err, i = crosstalk_probability(t_A, t_B)\n",
    "    I += i\n",
    "    P.append(P_c_est*100)\n",
    "I/N"
   ]
  },
  {
   "cell_type": "code",
   "execution_count": 20,
   "metadata": {},
   "outputs": [
    {
     "data": {
      "image/png": "[encoded data removed]",
      "text/plain": [
       "<matplotlib.figure.Figure at 0x968f4a8>"
      ]
     },
     "metadata": {},
     "output_type": "display_data"
    }
   ],
   "source": [
    "plt.hist(P, range=(96*P_c, 104*P_c), bins=60, label='Estimator');\n",
    "plt.axvline(P_c*100, ls='--', color='k', label='True value')\n",
    "plt.xlabel('Crosstalk probability (%)')\n",
    "plt.title('Simulation of crosstalk estimator accuracy');"
   ]
  },
  {
   "cell_type": "markdown",
   "metadata": {},
   "source": [
    "> **NOTE** The crosstalk estimator is well centered around the true value."
   ]
  }
 ],
 "metadata": {
  "kernelspec": {
   "display_name": "Python [conda env:py36]",
   "language": "python",
   "name": "conda-env-py36-py"
  },
  "language_info": {
   "codemirror_mode": {
    "name": "ipython",
    "version": 3
   },
   "file_extension": ".py",
   "mimetype": "text/x-python",
   "name": "python",
   "nbconvert_exporter": "python",
   "pygments_lexer": "ipython3",
   "version": "3.6.0"
  },
  "nav_menu": {},
  "toc": {
   "navigate_menu": true,
   "number_sections": true,
   "sideBar": true,
   "threshold": 6,
   "toc_cell": false,
   "toc_section_display": "block",
   "toc_window_display": false
  }
 },
 "nbformat": 4,
 "nbformat_minor": 1
}
